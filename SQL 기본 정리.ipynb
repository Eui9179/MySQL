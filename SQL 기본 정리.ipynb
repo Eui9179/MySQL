{
 "cells": [
  {
   "cell_type": "markdown",
   "source": [
    "## MySQL?\r\n",
    " - 여러 응용 시스템들의 통합된 정보를 저장하여, 운영할 수 있는 공용 데이터의 묶음\r\n",
    " - 논리적으로 연관된 하나 이상의 자료 모음으로 검색/갱신등의 데이터 관리를 효율화함\r\n",
    "### RDBMS(Relational Database Management System, 관계형 데이터베이스 관리 시스템)\r\n",
    " - 데이터베이스의 한 종류로, 가장 많이 사용됨\r\n",
    " - 역사가 오래되어, 가장 신뢰성이 높고, 데이터 분류, 정렬, 탐색 속도가 빠름\r\n",
    " - 관계형 데이터베이스 = 테이블\r\n",
    " - 관계형 데이터베이스에서는 데이터를 속성(Attribute)과 데이터 값(Attribute Value)으로 구조화(2차원 Table 형태로 만들어짐)\r\n",
    " - 주요 용어<br><br>\r\n",
    "- Primary Key and Foreign Key\r\n",
    "  - Primary Key(기본키): Primary Key는 한 테이블(Table)의 각 로우(Row)를 유일하게 식별해주는 컬럼(Column)으로, <br>\r\n",
    "    각 테이블마다 Primary Key가 존재해야 하며, NULL 값을 허용하지 않고, 각 로우(Row)마다 유일한 값이어야 한다.\r\n",
    "  - Foreign Key(외래키 또는 외부키): Foreign Key는 한 테이블의 필드(Attribute) 중 다른 테이블의 행(Row)을 식별할 수 있는 키<br>\r\n",
    "### CRUD [Create(생성), Read(읽기), Update(갱신), Delete(삭제)]\r\n",
    "\r\n",
    " "
   ],
   "metadata": {}
  },
  {
   "cell_type": "code",
   "execution_count": null,
   "source": [
    " INSERT INTO users (uname, email) VALUES ('이의찬', 'outdark97@naver.com');\r\n",
    " SELECT\t* FROM users WHERE uname = '이의찬';\r\n",
    " UPDATE users SET email = 'outdark97@gmail.com' WHERE uname = '이의찬';\r\n",
    " DELETE from users WHERE uname = '이의찬';"
   ],
   "outputs": [],
   "metadata": {}
  },
  {
   "cell_type": "markdown",
   "source": [
    "* cmd에서 mysql -u root -p로 mysql 접속\r\n",
    "* source {pate}/init_sql.sql"
   ],
   "metadata": {}
  },
  {
   "cell_type": "markdown",
   "source": [
    "## LIKE\r\n",
    "- 한 글자, 한단어가 포함된 데이터를 찾을 때 사용\r\n",
    "- SELECT * FROM users WHERE email LIKE '%out%'"
   ],
   "metadata": {}
  },
  {
   "cell_type": "markdown",
   "source": [
    "## ORDER BY {column} DESC | ASC\r\n",
    "\r\n",
    "- SELECT * FROM users ORDER BY email DESC;\r\n",
    "\r\n",
    "- email 기준으로 내림차순으로 정렬해서 검색\r\n",
    "- *ASC :오름 차순"
   ],
   "metadata": {}
  },
  {
   "cell_type": "markdown",
   "source": [
    "## LIMIT\r\n",
    "- 범위 설정\r\n",
    "- SELECT * FROM users LIMIT 1,3;\r\n",
    "- users 테이블에서 1번부터 3번까지 검색"
   ],
   "metadata": {}
  },
  {
   "cell_type": "markdown",
   "source": [
    "## 명령어 순서"
   ],
   "metadata": {}
  },
  {
   "cell_type": "code",
   "execution_count": 24,
   "source": [
    "import pymysql\r\n",
    "import pandas as pd\r\n",
    "\r\n",
    "db = pymysql.connect(\r\n",
    "    host='localhost',\r\n",
    "    port=3306,\r\n",
    "    user='root',\r\n",
    "    passwd='eui1119',\r\n",
    "    db='sql_study_db',\r\n",
    "    charset='utf8',\r\n",
    ")\r\n",
    "\r\n",
    "\r\n",
    "query = \"SELECT * FROM users WHERE uname LIKE '%e%' ORDER BY idx ASC LIMIT 0,2\"\r\n",
    "df = pd.read_sql(query, db)\r\n",
    "print(df)\r\n",
    "db.close()"
   ],
   "outputs": [
    {
     "output_type": "stream",
     "name": "stdout",
     "text": [
      "   idx    uname gender  age cname\n",
      "0    1  euichan    man   19   ccc\n",
      "1    6    jenga  woman   25   bbb\n"
     ]
    }
   ],
   "metadata": {}
  },
  {
   "cell_type": "markdown",
   "source": [
    "## GROUP BY, HAVING\r\n",
    "- GROUP BY: 그룹을 지어서 데이터를 분석할때 사용\r\n",
    "- 집계함수(COUNT, SUM, AVG, MAX, MIN) 함수와 함께 사용하면 각 그룹별 row 수, 합계, 평균, 최대, 최소 값을 알 수 있음\r\n",
    "- HAVING: 집계 함수에 조건을 줌\r\n",
    "- EX) SELECT provider, COUNT(*) FROM items GROUP BY provider ORDER BY COUNT(*) DESC;   \r\n",
    "<br>\r\n",
    "### COUNT(*)\r\n",
    "- count : 검색 결과의 row 수를 가져올 수 있는 sql 문법\r\n",
    "- SQL 예제: SELECT COUNT(*) FROM items;\r\n",
    "- SQL 예제: SELECT COUNT(age) FROM people; (age필드에 값이 없다면 count하지않음)\r\n",
    "<br>\r\n",
    "### SUM, AVG, MAX, MIN\r\n",
    "- SUM: 필드 값 합\r\n",
    "- AVG: 필드 값 평균\r\n",
    "- MAX: 필드 값의 최댓값\r\n",
    "- MIN: 필드 값의 최솟값\r\n"
   ],
   "metadata": {}
  },
  {
   "cell_type": "code",
   "execution_count": 27,
   "source": [
    "import pymysql\r\n",
    "import pandas as pd\r\n",
    "\r\n",
    "db = pymysql.connect(\r\n",
    "    host='localhost',\r\n",
    "    port=3306,\r\n",
    "    user='root',\r\n",
    "    passwd='eui1119',\r\n",
    "    db='sql_study_db',\r\n",
    "    charset='utf8',\r\n",
    ")\r\n",
    "\r\n",
    "print(\"유저 성별별 인원수\")\r\n",
    "query = \"\"\"\r\n",
    "SELECT gender, COUNT(*) FROM users GROUP BY gender \r\n",
    "\"\"\"\r\n",
    "df = pd.read_sql(query, db)\r\n",
    "print(df)\r\n",
    "\r\n",
    "print(\"\\n유저 중 나이가 가장 많은 사람, 적은 사람\")\r\n",
    "query = \"\"\"\r\n",
    "SELECT uname, MAX(age) AS MAX_AGE, MIN(age) AS MIN_AGE\r\n",
    "FROM users;\r\n",
    "\"\"\"\r\n",
    "df = pd.read_sql(query, db)\r\n",
    "print(df)\r\n",
    "\r\n",
    "print('\\n클랜별 인원 수 2 이상인 클랜')\r\n",
    "query = \"\"\"SELECT cname, COUNT(*) FROM users GROUP BY cname HAVING COUNT(*)>2\"\"\"\r\n",
    "df = pd.read_sql(query, db)\r\n",
    "print(df)\r\n",
    "\r\n",
    "db.close()"
   ],
   "outputs": [
    {
     "output_type": "stream",
     "name": "stdout",
     "text": [
      "유저 성별별 인원수\n",
      "  gender  COUNT(*)\n",
      "0    man         4\n",
      "1  woman         3\n",
      "\n",
      "유저 중 나이가 가장 많은 사람, 적은 사람\n",
      "     uname  MAX_AGE  MIN_AGE\n",
      "0  euichan       34        5\n",
      "\n",
      "클랜별 인원 수 2 이상인 클랜\n",
      "  cname  COUNT(*)\n",
      "0   aaa         3\n",
      "1   ccc         3\n"
     ]
    }
   ],
   "metadata": {}
  },
  {
   "cell_type": "markdown",
   "source": [
    "## JOIN\r\n",
    "#### 외래키(FOREIGN KEY)를 만드는 이유\r\n",
    "* 두 테이블 사이에 관계를 선언해서, 데이터의 무결성을 보장"
   ],
   "metadata": {}
  },
  {
   "cell_type": "code",
   "execution_count": 39,
   "source": [
    "import pymysql\r\n",
    "import pandas as pd\r\n",
    "\r\n",
    "db = pymysql.connect(\r\n",
    "    host='localhost',\r\n",
    "    port=3306,\r\n",
    "    user='root',\r\n",
    "    passwd='eui1119',\r\n",
    "    db='sql_study_db',\r\n",
    "    charset='utf8',\r\n",
    ")\r\n",
    "\r\n",
    "query = \"\"\"SELECT * FROM users \r\n",
    "           INNER JOIN clans on users.cname = clans.cname \r\n",
    "\"\"\"\r\n",
    "df = pd.read_sql(query, db)\r\n",
    "print(df)\r\n",
    "\r\n",
    "db.close()"
   ],
   "outputs": [
    {
     "output_type": "stream",
     "name": "stdout",
     "text": [
      "   idx      uname gender  age cname cname         create_date  win_rate\n",
      "0    1    euichan    man   19   ccc   ccc 2021-08-03 20:50:18      51.2\n",
      "1    2      jiwon  woman   21   aaa   aaa 2021-08-03 20:50:18      55.5\n",
      "2    3      minji  woman    5   aaa   aaa 2021-08-03 20:50:18      55.5\n",
      "3    4    yunghun    man   15   ccc   ccc 2021-08-03 20:50:18      51.2\n",
      "4    5  kyungchul    man   34   ccc   ccc 2021-08-03 20:50:18      51.2\n",
      "5    6      jenga  woman   25   bbb   bbb 2021-08-03 20:50:18      49.0\n",
      "6    7      elise    man   33   aaa   aaa 2021-08-03 20:50:18      55.5\n"
     ]
    }
   ],
   "metadata": {}
  },
  {
   "cell_type": "markdown",
   "source": [
    "## +) JOIN vs SUB_QUERY"
   ],
   "metadata": {}
  },
  {
   "cell_type": "code",
   "execution_count": 47,
   "source": [
    "import pymysql\r\n",
    "import pandas as pd\r\n",
    "\r\n",
    "db = pymysql.connect(\r\n",
    "    host='localhost',\r\n",
    "    port=3306,\r\n",
    "    user='root',\r\n",
    "    passwd='eui1119',\r\n",
    "    db='sql_study_db',\r\n",
    "    charset='utf8',\r\n",
    ")\r\n",
    "\r\n",
    "#승률이 50%이상인 클랜의 성별수\r\n",
    "query = \"\"\"SELECT gender, COUNT(*)  FROM users WHERE cname IN (SELECT cname FROM clans WHERE win_rate > 50.0) GROUP BY gender\r\n",
    "           \r\n",
    "\"\"\"\r\n",
    "df = pd.read_sql(query, db)\r\n",
    "print(df)\r\n",
    "\r\n",
    "db.close()"
   ],
   "outputs": [
    {
     "output_type": "stream",
     "name": "stdout",
     "text": [
      "  gender  COUNT(*)\n",
      "0    man         4\n",
      "1  woman         2\n"
     ]
    }
   ],
   "metadata": {}
  }
 ],
 "metadata": {
  "orig_nbformat": 4,
  "language_info": {
   "name": "python",
   "version": "3.9.6",
   "mimetype": "text/x-python",
   "codemirror_mode": {
    "name": "ipython",
    "version": 3
   },
   "pygments_lexer": "ipython3",
   "nbconvert_exporter": "python",
   "file_extension": ".py"
  },
  "kernelspec": {
   "name": "python3",
   "display_name": "Python 3.9.6 64-bit ('venv': venv)"
  },
  "interpreter": {
   "hash": "58cdc37d0967360d960e1cee550d266481e0941e1d409fe4ef50db0d4891f5d6"
  }
 },
 "nbformat": 4,
 "nbformat_minor": 2
}